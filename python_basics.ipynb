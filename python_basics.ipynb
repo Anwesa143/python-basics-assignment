{
  "nbformat": 4,
  "nbformat_minor": 0,
  "metadata": {
    "colab": {
      "provenance": []
    },
    "kernelspec": {
      "name": "python3",
      "display_name": "Python 3"
    },
    "language_info": {
      "name": "python"
    }
  },
  "cells": [
    {
      "cell_type": "markdown",
      "source": [
        "PYTHON BASICS QUESTIONS\n"
      ],
      "metadata": {
        "id": "r6R0As8-puoa"
      }
    },
    {
      "cell_type": "markdown",
      "source": [
        "1.What is Python, and why is it popular?\n",
        "  - Python is a versatile and high level programming language.It is beginner friendly.It is an interpreted and open source coding language as it has a simple syntax to code.\n",
        "  - This language is popular because of its simplicity and readability.Python can be used for a wide range of applications from scripting and automation to web development,data science and artificial intelligence.Python has a huge ecosystem of libraries.It is free to use and distribute.\n",
        "     \n",
        "2.What is an interpreter in Python?\n",
        " - An interpreter in Python is a program that reads ,executes Python code line by line and translates it into machine readble bytecode.It allowing us to see the output of code immediately after running it.\n",
        "\n",
        "3.What are pre-defined keywords in Python?\n",
        "- Python keywords are some predefined and reserved words in python that have special meanings.These are used to define the syntax of the coding.The keyword cannot be used as identifier,function or variable names.Python has 35 keywords.Some examples are False,None,True,and,as,break,def,class,return,if,del,for etc.\n",
        "\n",
        "4.Can keywords be used as variable names?\n",
        "- No, keywords cannot be used as variable names.Keywords are reserved words thar have specific to the compliers or interpreter and are used to define the language's syntex.Using keywords as variable names would create a syntax error.\n",
        "\n",
        "5.What is mutability in Python?\n",
        "- Mutability in python is ability of an object to be changed after it has been created.If an object is mutable its state or value can be changed in place without creating  a new object.Common mutable data types in pyhton are lists,dictionaries and sets.\n",
        "\n",
        "6.Why are lists mutable, but tuples are immutable?\n",
        "- List can be changed by adding or removing element after creation thats why list are mutable.\n",
        " But tuples cannot be changed after creation so tuples are immutable.\n",
        "\n",
        "7.What is the difference between “==” and “is” operators in Python?\n",
        "- In python,\"==\" and \"is\" operators are both used for comparison but they serve different purposes.\n",
        " The \"==\" operator checks for equality of values of two objects are same.On the other hand,\"is\" operator checks for identity, meaning it determines whether two varibles point to the same object in memory.\n",
        "\n",
        "8.What are logical operators in Python?\n",
        "- In python,logical operators are used to combine multiple conditions together and evaluate them as a single boolean expression.There are three main logical operators in python: and ,or and not.\n",
        "\n",
        "9.What is type casting in Python?\n",
        "- Type casting in python is the method to convert the python variable datatype into a certain data type in order to perform thr required operation by users.There are two types of type casting in python: implicit type casting and explicit type casting.\n",
        "\n",
        "10.What is the difference between implicit and explicit type casting?\n",
        "- Implicit type casting is automatic, performed by the interpreter but explicit type casting is manual,performed by the programmer.\n",
        "In implicit casting python itself handles without any coding inputs and in explicit casting uses function like int(),float(),or str().\n",
        "\n",
        "11.What is the purpose of conditional statements in Python?\n",
        "- Conditional statements in python are used to execute certain blocks of code based on specific conditions.These statements help control the flow of a program,making it behave differently in different situations.The primary conditional statements in python are if ,elif,and else.\n",
        "\n",
        "12.How does the elif statement work?\n",
        "- The elif statement in python,short for \"else if\",provides a way to check multiple conditions sequentially.It is used in conjunction with if and optionally else to create a chain of conditional checks.\n",
        "\n",
        "13.What is the difference between for and while loops?\n",
        "- The for and while loops serve different purposes in Python,primarily distinguished by their control mechanisms and use cases.\n",
        "For loop- it iterates over a sequence or other iterable objects.The loop executes a block of code for each item in the sequence.\n",
        "While loop- it repeatedly executes a block of code as long as a specified condition is true.The number of iterations is not predetermined and depends on the condition being met.\n",
        "\n",
        "14.Describe a scenario where a while loop is more suitable than a for loop.\n",
        "- A while loop is more suitable than a for loop when we don't know in advance how many times we need to repeates the loop.A for loop is better when we know exactly how many times we want to loop.\n",
        "\n",
        "\n",
        "\n",
        "\n",
        "  \n",
        "\n",
        "\n"
      ],
      "metadata": {
        "id": "WDzm3PYvp9bG"
      }
    },
    {
      "cell_type": "markdown",
      "source": [
        "PRACTICAL QUESTIONS"
      ],
      "metadata": {
        "id": "vTR0JGZkqQBt"
      }
    },
    {
      "cell_type": "markdown",
      "source": [
        "1.Write a Python program to print \"Hello, World!"
      ],
      "metadata": {
        "id": "q07VWqqi35Lv"
      }
    },
    {
      "cell_type": "code",
      "execution_count": null,
      "metadata": {
        "id": "4YGLceqtpI20",
        "colab": {
          "base_uri": "https://localhost:8080/"
        },
        "outputId": "7c87a418-b5f7-4dd9-c793-e31cbf3d974d"
      },
      "outputs": [
        {
          "output_type": "stream",
          "name": "stdout",
          "text": [
            "Hello,World\n"
          ]
        }
      ],
      "source": [
        "print(\"Hello,World\")"
      ]
    },
    {
      "cell_type": "markdown",
      "source": [
        "2.Write a Python program that displays your name and age."
      ],
      "metadata": {
        "id": "toyHiaes3rf1"
      }
    },
    {
      "cell_type": "code",
      "source": [
        "name = \"ANWESA\"\n",
        "age =  26\n",
        "\n",
        "print(\"my name is\",name)\n",
        "print(\"I am\", age,\"years old\")\n"
      ],
      "metadata": {
        "colab": {
          "base_uri": "https://localhost:8080/"
        },
        "id": "cPd5IIyO4nqU",
        "outputId": "5de5bfc7-9556-4be6-d64f-3550582e8a14"
      },
      "execution_count": null,
      "outputs": [
        {
          "output_type": "stream",
          "name": "stdout",
          "text": [
            "my name is ANWESA\n",
            "I am 26 years old\n"
          ]
        }
      ]
    },
    {
      "cell_type": "markdown",
      "source": [
        "3.Write code to print all the pre-defined keywords in Python using the keyword library."
      ],
      "metadata": {
        "id": "PtyZ_26f7OLn"
      }
    },
    {
      "cell_type": "code",
      "source": [
        "import keyword\n",
        "python_keywords = keyword.kwlist\n",
        "print(\"Python Keywords:\")\n",
        "for kw in python_keywords:\n",
        "    print(kw)\n"
      ],
      "metadata": {
        "colab": {
          "base_uri": "https://localhost:8080/"
        },
        "id": "iY_ptaiC7cjH",
        "outputId": "016cbc41-693e-47ed-e98c-67076edd3dd3"
      },
      "execution_count": null,
      "outputs": [
        {
          "output_type": "stream",
          "name": "stdout",
          "text": [
            "Python Keywords:\n",
            "False\n",
            "None\n",
            "True\n",
            "and\n",
            "as\n",
            "assert\n",
            "async\n",
            "await\n",
            "break\n",
            "class\n",
            "continue\n",
            "def\n",
            "del\n",
            "elif\n",
            "else\n",
            "except\n",
            "finally\n",
            "for\n",
            "from\n",
            "global\n",
            "if\n",
            "import\n",
            "in\n",
            "is\n",
            "lambda\n",
            "nonlocal\n",
            "not\n",
            "or\n",
            "pass\n",
            "raise\n",
            "return\n",
            "try\n",
            "while\n",
            "with\n",
            "yield\n"
          ]
        }
      ]
    },
    {
      "cell_type": "markdown",
      "source": [
        "4.Write a program that checks if a given word is a Python keyword."
      ],
      "metadata": {
        "id": "jjXBP-Py8-il"
      }
    },
    {
      "cell_type": "code",
      "source": [
        "import keyword\n",
        "word =\"for\"\n",
        "if keyword.iskeyword(word):\n",
        "    print(f\"'{word}' is a Python keyword.\")\n",
        "else:\n",
        "    print(f\"'{word}' is NOT a Python keyword.\")\n"
      ],
      "metadata": {
        "colab": {
          "base_uri": "https://localhost:8080/"
        },
        "id": "HtN0TxZT9ure",
        "outputId": "0168dd2e-8ef6-4bd4-9042-0f34303f730e"
      },
      "execution_count": null,
      "outputs": [
        {
          "output_type": "stream",
          "name": "stdout",
          "text": [
            "'for' is a Python keyword.\n"
          ]
        }
      ]
    },
    {
      "cell_type": "markdown",
      "source": [
        "5. Create a list and tuple in Python, and demonstrate how attempting to change an element works differently\n",
        "for each."
      ],
      "metadata": {
        "id": "BIGHfbhWAiDS"
      }
    },
    {
      "cell_type": "code",
      "source": [
        "my_list = [1, 2, 3]\n",
        "my_tuple = (1, 2, 3)\n",
        "\n",
        "print(\"Original list:\", my_list)\n",
        "my_list[1] = 100\n",
        "print(\"Modified list:\", my_list)\n",
        "\n",
        "print(\"\\nOriginal tuple:\", my_tuple)\n",
        "try:\n",
        "    my_tuple[1] = 100\n",
        "except TypeError as e:\n",
        "    print(\"Error when trying to modify tuple:\", e)\n"
      ],
      "metadata": {
        "colab": {
          "base_uri": "https://localhost:8080/"
        },
        "id": "9VBjO1cxArb5",
        "outputId": "bcbc0f84-7d51-4ee2-97f4-c215a621a6c8"
      },
      "execution_count": null,
      "outputs": [
        {
          "output_type": "stream",
          "name": "stdout",
          "text": [
            "Original list: [1, 2, 3]\n",
            "Modified list: [1, 100, 3]\n",
            "\n",
            "Original tuple: (1, 2, 3)\n",
            "Error when trying to modify tuple: 'tuple' object does not support item assignment\n"
          ]
        }
      ]
    },
    {
      "cell_type": "markdown",
      "source": [
        "7.Write a program that performs basic arithmetic operations on two user-input numbers."
      ],
      "metadata": {
        "id": "EvaAuzvv23zC"
      }
    },
    {
      "cell_type": "code",
      "source": [
        "\n",
        "num1 = 6\n",
        "num2 = 2\n",
        "\n",
        "# Addition\n",
        "print(\"Addition:\", num1 + num2)\n",
        "\n",
        "# Subtraction\n",
        "print(\"Subtraction:\", num1 - num2)\n",
        "\n",
        "# Multiplication\n",
        "print(\"Multiplication:\", num1 * num2)\n",
        "\n",
        "# Division\n",
        "if num2 != 0:\n",
        "    print(\"Division:\", num1 / num2)\n",
        "else:\n",
        "    print(\"Cannot divide by zero\")\n"
      ],
      "metadata": {
        "colab": {
          "base_uri": "https://localhost:8080/"
        },
        "id": "2cJzDykK4Z7h",
        "outputId": "03dbcf8b-8abf-4abc-ce60-d784320c9e39"
      },
      "execution_count": 1,
      "outputs": [
        {
          "output_type": "stream",
          "name": "stdout",
          "text": [
            "Addition: 8\n",
            "Subtraction: 4\n",
            "Multiplication: 12\n",
            "Division: 3.0\n"
          ]
        }
      ]
    },
    {
      "cell_type": "markdown",
      "source": [
        "8.Write a program to demonstrate the use of logical operators."
      ],
      "metadata": {
        "id": "2znrawfA4xCK"
      }
    },
    {
      "cell_type": "code",
      "source": [
        "\n",
        "num1 = 6\n",
        "num2 = -3\n",
        "\n",
        "# Logical AND\n",
        "if num1 > 0 and num2 > 0:\n",
        "    print(\"Both numbers are positive.\")\n",
        "else:\n",
        "    print(\"At least one number is not positive.\")\n",
        "\n",
        "# Logical OR\n",
        "if num1 % 2 == 0 or num2 % 2 == 0:\n",
        "    print(\"At least one number is even.\")\n",
        "else:\n",
        "    print(\"Both numbers are odd.\")\n",
        "\n",
        "# Logical NOT\n",
        "print(\"It is\", not (num1 == num2), \"that the numbers are equal.\")\n"
      ],
      "metadata": {
        "colab": {
          "base_uri": "https://localhost:8080/"
        },
        "id": "p__F32_g5bxm",
        "outputId": "9d941c2d-504d-4219-81da-5f92d64721b0"
      },
      "execution_count": 2,
      "outputs": [
        {
          "output_type": "stream",
          "name": "stdout",
          "text": [
            "At least one number is not positive.\n",
            "At least one number is even.\n",
            "It is True that the numbers are equal.\n"
          ]
        }
      ]
    },
    {
      "cell_type": "markdown",
      "source": [
        "9.Write a Python program to convert user input from string to integer, float, and boolean types.\n",
        "\n"
      ],
      "metadata": {
        "id": "ufoxbe_F50dg"
      }
    },
    {
      "cell_type": "code",
      "source": [
        "# Get user input as string\n",
        "user_input = 169\n",
        "\n",
        "# Convert to integer\n",
        "try:\n",
        "    int_value = int(user_input)\n",
        "    print(\"Integer value:\", int_value)\n",
        "except ValueError:\n",
        "    print(\"Cannot convert to integer.\")\n",
        "\n",
        "# Convert to float\n",
        "try:\n",
        "    float_value = float(user_input)\n",
        "    print(\"Float value:\", float_value)\n",
        "except ValueError:\n",
        "    print(\"Cannot convert to float.\")\n",
        "\n",
        "# Convert to boolean\n",
        "# (In Python, empty string is False, anything else is True)\n",
        "bool_value = bool(user_input)\n",
        "print(\"Boolean value:\", bool_value)\n"
      ],
      "metadata": {
        "colab": {
          "base_uri": "https://localhost:8080/"
        },
        "id": "BGhL-MMY6YV5",
        "outputId": "7bbc7ecb-2149-42cf-e152-16278b6fa418"
      },
      "execution_count": 5,
      "outputs": [
        {
          "output_type": "stream",
          "name": "stdout",
          "text": [
            "Integer value: 169\n",
            "Float value: 169.0\n",
            "Boolean value: True\n"
          ]
        }
      ]
    },
    {
      "cell_type": "markdown",
      "source": [
        "10.Write code to demonstrate type casting with list elements."
      ],
      "metadata": {
        "id": "mf5e1mkA6zC-"
      }
    },
    {
      "cell_type": "code",
      "source": [
        "# Sample list of string numbers\n",
        "str_list = [5,6,7,8]\n",
        "\n",
        "print(\"Original list (strings):\", str_list)\n",
        "\n",
        "# Convert to integers\n",
        "int_list = [int(item) for item in str_list]\n",
        "print(\"List converted to integers:\", int_list)\n",
        "\n",
        "# Convert to floats\n",
        "float_list = [float(item) for item in str_list]\n",
        "print(\"List converted to floats:\", float_list)\n",
        "\n",
        "# Convert to booleans\n",
        "# (In Python, non-empty strings are True)\n",
        "bool_list = [bool(item) for item in str_list]\n",
        "print(\"List converted to booleans:\", bool_list)\n"
      ],
      "metadata": {
        "colab": {
          "base_uri": "https://localhost:8080/"
        },
        "id": "iq1X88uB7AGK",
        "outputId": "0f53ecfc-7bc0-4416-b13e-acda6b85d6bc"
      },
      "execution_count": 6,
      "outputs": [
        {
          "output_type": "stream",
          "name": "stdout",
          "text": [
            "Original list (strings): [5, 6, 7, 8]\n",
            "List converted to integers: [5, 6, 7, 8]\n",
            "List converted to floats: [5.0, 6.0, 7.0, 8.0]\n",
            "List converted to booleans: [True, True, True, True]\n"
          ]
        }
      ]
    },
    {
      "cell_type": "markdown",
      "source": [
        "11.Write a program that checks if a number is positive, negative, or zero"
      ],
      "metadata": {
        "id": "fq3id0D57v9_"
      }
    },
    {
      "cell_type": "code",
      "source": [
        "num = 5\n",
        "\n",
        "# Check if the number is positive, negative, or zero\n",
        "if num > 0:\n",
        "    print(\"The number is positive.\")\n",
        "elif num < 0:\n",
        "    print(\"The number is negative.\")\n",
        "else:\n",
        "    print(\"The number is zero.\")\n"
      ],
      "metadata": {
        "colab": {
          "base_uri": "https://localhost:8080/"
        },
        "id": "PLb7q4CS74P8",
        "outputId": "33192e3c-76ec-45a3-e699-810c3f9cf29a"
      },
      "execution_count": 7,
      "outputs": [
        {
          "output_type": "stream",
          "name": "stdout",
          "text": [
            "The number is positive.\n"
          ]
        }
      ]
    },
    {
      "cell_type": "code",
      "source": [
        "num = -3\n",
        "\n",
        "# Check if the number is positive, negative, or zero\n",
        "if num > 0:\n",
        "    print(\"The number is positive.\")\n",
        "elif num < 0:\n",
        "    print(\"The number is negative.\")\n",
        "else:\n",
        "    print(\"The number is zero.\")\n"
      ],
      "metadata": {
        "colab": {
          "base_uri": "https://localhost:8080/"
        },
        "id": "BSVER9NX9w8F",
        "outputId": "d08ced99-9689-461e-e007-6b77c1eb5c66"
      },
      "execution_count": 8,
      "outputs": [
        {
          "output_type": "stream",
          "name": "stdout",
          "text": [
            "The number is negative.\n"
          ]
        }
      ]
    },
    {
      "cell_type": "code",
      "source": [
        "\n",
        "num = 0\n",
        "\n",
        "# Check if the number is positive, negative, or zero\n",
        "if num > 0:\n",
        "    print(\"The number is positive.\")\n",
        "elif num < 0:\n",
        "    print(\"The number is negative.\")\n",
        "else:\n",
        "    print(\"The number is zero.\")\n"
      ],
      "metadata": {
        "colab": {
          "base_uri": "https://localhost:8080/"
        },
        "id": "ylhLSqge98mx",
        "outputId": "428f4166-f9ad-4c22-c279-3118c8f28b9e"
      },
      "execution_count": 9,
      "outputs": [
        {
          "output_type": "stream",
          "name": "stdout",
          "text": [
            "The number is zero.\n"
          ]
        }
      ]
    },
    {
      "cell_type": "markdown",
      "source": [
        "12.Write a for loop to print numbers from 1 to 10."
      ],
      "metadata": {
        "id": "GF4qGdSG-MXI"
      }
    },
    {
      "cell_type": "code",
      "source": [
        "for i in range(1, 11):\n",
        "    print(i)\n"
      ],
      "metadata": {
        "colab": {
          "base_uri": "https://localhost:8080/"
        },
        "id": "LSwmnMfw-cZr",
        "outputId": "67587892-b539-4c2c-8311-49bdf3c124bb"
      },
      "execution_count": 10,
      "outputs": [
        {
          "output_type": "stream",
          "name": "stdout",
          "text": [
            "1\n",
            "2\n",
            "3\n",
            "4\n",
            "5\n",
            "6\n",
            "7\n",
            "8\n",
            "9\n",
            "10\n"
          ]
        }
      ]
    },
    {
      "cell_type": "markdown",
      "source": [
        "13.Write a Python program to find the sum of all even numbers between 1 and 50."
      ],
      "metadata": {
        "id": "pI3xN9yf-sXi"
      }
    },
    {
      "cell_type": "code",
      "source": [
        "total = 0\n",
        "\n",
        "# Loop from 1 to 50\n",
        "for num in range(1, 51):\n",
        "    if num % 2 == 0:\n",
        "        total += num\n",
        "\n",
        "# Print the result\n",
        "print(\"The sum of all even numbers between 1 and 50 is:\", total)\n"
      ],
      "metadata": {
        "colab": {
          "base_uri": "https://localhost:8080/"
        },
        "id": "3qteetb8-0KQ",
        "outputId": "b5924988-a510-4be7-9899-5498705ea355"
      },
      "execution_count": 11,
      "outputs": [
        {
          "output_type": "stream",
          "name": "stdout",
          "text": [
            "The sum of all even numbers between 1 and 50 is: 650\n"
          ]
        }
      ]
    },
    {
      "cell_type": "markdown",
      "source": [
        "14.Write a program to reverse a string using a while loop."
      ],
      "metadata": {
        "id": "Ce556V2J_daG"
      }
    },
    {
      "cell_type": "code",
      "source": [
        "input_string = input(\"Enter a string: \")\n",
        "\n",
        "# Initialize an empty string to store the reversed string\n",
        "reversed_string = \"\"\n",
        "\n",
        "# Set a variable for the index of the last character\n",
        "index = len(input_string) - 1\n",
        "\n",
        "# Use a while loop to reverse the string\n",
        "while index >= 0:\n",
        "    reversed_string += input_string[index]\n",
        "    index -= 1\n",
        "\n",
        "# Print the reversed string\n",
        "print(\"Reversed string:\", reversed_string)\n",
        "\n"
      ],
      "metadata": {
        "colab": {
          "base_uri": "https://localhost:8080/"
        },
        "id": "98ZDUW1R__hs",
        "outputId": "c342cc98-7bee-4c89-abd5-662a7fbca0d9"
      },
      "execution_count": 14,
      "outputs": [
        {
          "output_type": "stream",
          "name": "stdout",
          "text": [
            "Enter a string: tuli\n",
            "Reversed string: ilut\n"
          ]
        }
      ]
    },
    {
      "cell_type": "markdown",
      "source": [
        "15.Write a Python program to calculate the factorial of a number provided by the user using a while loop."
      ],
      "metadata": {
        "id": "buE5ZVqqA133"
      }
    },
    {
      "cell_type": "code",
      "source": [
        "num = 6\n",
        "\n",
        "# Initialize the factorial variable\n",
        "factorial = 1\n",
        "\n",
        "# Use a while loop to calculate the factorial\n",
        "while num > 1:\n",
        "    factorial *= num\n",
        "    num -= 1\n",
        "\n",
        "# Print the result\n",
        "print(\"Factorial is:\", factorial)\n"
      ],
      "metadata": {
        "colab": {
          "base_uri": "https://localhost:8080/"
        },
        "id": "_at5NL4hA9_m",
        "outputId": "b355f15e-1924-4106-d981-ab100db55fd2"
      },
      "execution_count": 18,
      "outputs": [
        {
          "output_type": "stream",
          "name": "stdout",
          "text": [
            "Factorial is: 720\n"
          ]
        }
      ]
    }
  ]
}